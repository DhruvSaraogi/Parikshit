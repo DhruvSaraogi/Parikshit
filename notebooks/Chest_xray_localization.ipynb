{
  "cells": [
    {
      "cell_type": "markdown",
      "metadata": {
        "id": "view-in-github",
        "colab_type": "text"
      },
      "source": [
        "<a href=\"https://colab.research.google.com/github/DhruvSaraogi/Parikshit/blob/main/notebooks/Chest_xray_localization.ipynb\" target=\"_parent\"><img src=\"https://colab.research.google.com/assets/colab-badge.svg\" alt=\"Open In Colab\"/></a>"
      ]
    },
    {
      "cell_type": "markdown",
      "source": [
        "Save a copy of this Notebook before execution."
      ],
      "metadata": {
        "id": "pcDwzJfYtV0i"
      }
    },
    {
      "cell_type": "markdown",
      "metadata": {
        "id": "iHv4y2xJnwec"
      },
      "source": [
        "Check GPU configuration.\n",
        "In this project Nvidia tesla P100 GPU was used."
      ]
    },
    {
      "cell_type": "code",
      "execution_count": 1,
      "metadata": {
        "id": "-aGtxOK2Zyeb",
        "outputId": "c98d5575-3286-4bf9-c22b-722a608808f8",
        "colab": {
          "base_uri": "https://localhost:8080/"
        }
      },
      "outputs": [
        {
          "output_type": "stream",
          "name": "stdout",
          "text": [
            "Thu Dec 12 06:01:31 2024       \n",
            "+---------------------------------------------------------------------------------------+\n",
            "| NVIDIA-SMI 535.104.05             Driver Version: 535.104.05   CUDA Version: 12.2     |\n",
            "|-----------------------------------------+----------------------+----------------------+\n",
            "| GPU  Name                 Persistence-M | Bus-Id        Disp.A | Volatile Uncorr. ECC |\n",
            "| Fan  Temp   Perf          Pwr:Usage/Cap |         Memory-Usage | GPU-Util  Compute M. |\n",
            "|                                         |                      |               MIG M. |\n",
            "|=========================================+======================+======================|\n",
            "|   0  Tesla T4                       Off | 00000000:00:04.0 Off |                    0 |\n",
            "| N/A   59C    P8              11W /  70W |      0MiB / 15360MiB |      0%      Default |\n",
            "|                                         |                      |                  N/A |\n",
            "+-----------------------------------------+----------------------+----------------------+\n",
            "                                                                                         \n",
            "+---------------------------------------------------------------------------------------+\n",
            "| Processes:                                                                            |\n",
            "|  GPU   GI   CI        PID   Type   Process name                            GPU Memory |\n",
            "|        ID   ID                                                             Usage      |\n",
            "|=======================================================================================|\n",
            "|  No running processes found                                                           |\n",
            "+---------------------------------------------------------------------------------------+\n"
          ]
        }
      ],
      "source": [
        "!nvidia-smi"
      ]
    },
    {
      "cell_type": "markdown",
      "source": [
        "Clone the Repository"
      ],
      "metadata": {
        "id": "xWPZJz9JhFzB"
      }
    },
    {
      "cell_type": "code",
      "source": [
        "!git clone https://github.com/gavin-d26/Localization-of-Lung-abnormalities-on-Chest-X-Rays-using-self-supervised-equivariant-attention.git"
      ],
      "metadata": {
        "id": "5QtSS7dpg_Ed",
        "outputId": "cbadcbf5-5c2c-4cf4-b0ef-e9dc13a51bba",
        "colab": {
          "base_uri": "https://localhost:8080/"
        }
      },
      "execution_count": 2,
      "outputs": [
        {
          "output_type": "stream",
          "name": "stdout",
          "text": [
            "Cloning into 'Localization-of-Lung-abnormalities-on-Chest-X-Rays-using-self-supervised-equivariant-attention'...\n",
            "remote: Enumerating objects: 53, done.\u001b[K\n",
            "remote: Counting objects: 100% (53/53), done.\u001b[K\n",
            "remote: Compressing objects: 100% (37/37), done.\u001b[K\n",
            "remote: Total 53 (delta 23), reused 36 (delta 14), pack-reused 0 (from 0)\u001b[K\n",
            "Receiving objects: 100% (53/53), 803.62 KiB | 22.32 MiB/s, done.\n",
            "Resolving deltas: 100% (23/23), done.\n"
          ]
        }
      ]
    },
    {
      "cell_type": "markdown",
      "metadata": {
        "id": "14mfqzxLnLXt"
      },
      "source": [
        "Create a kaggle API token and upload the downloaded kaggle.json to the content directory."
      ]
    },
    {
      "cell_type": "code",
      "execution_count": 3,
      "metadata": {
        "id": "TinVvnSqnQxM",
        "outputId": "dca91722-aa8c-4034-d7de-13de9681d94c",
        "colab": {
          "base_uri": "https://localhost:8080/",
          "height": 90
        }
      },
      "outputs": [
        {
          "output_type": "display_data",
          "data": {
            "text/plain": [
              "<IPython.core.display.HTML object>"
            ],
            "text/html": [
              "\n",
              "     <input type=\"file\" id=\"files-53186753-8b87-486e-8bc7-27fecd0ff5fc\" name=\"files[]\" multiple disabled\n",
              "        style=\"border:none\" />\n",
              "     <output id=\"result-53186753-8b87-486e-8bc7-27fecd0ff5fc\">\n",
              "      Upload widget is only available when the cell has been executed in the\n",
              "      current browser session. Please rerun this cell to enable.\n",
              "      </output>\n",
              "      <script>// Copyright 2017 Google LLC\n",
              "//\n",
              "// Licensed under the Apache License, Version 2.0 (the \"License\");\n",
              "// you may not use this file except in compliance with the License.\n",
              "// You may obtain a copy of the License at\n",
              "//\n",
              "//      http://www.apache.org/licenses/LICENSE-2.0\n",
              "//\n",
              "// Unless required by applicable law or agreed to in writing, software\n",
              "// distributed under the License is distributed on an \"AS IS\" BASIS,\n",
              "// WITHOUT WARRANTIES OR CONDITIONS OF ANY KIND, either express or implied.\n",
              "// See the License for the specific language governing permissions and\n",
              "// limitations under the License.\n",
              "\n",
              "/**\n",
              " * @fileoverview Helpers for google.colab Python module.\n",
              " */\n",
              "(function(scope) {\n",
              "function span(text, styleAttributes = {}) {\n",
              "  const element = document.createElement('span');\n",
              "  element.textContent = text;\n",
              "  for (const key of Object.keys(styleAttributes)) {\n",
              "    element.style[key] = styleAttributes[key];\n",
              "  }\n",
              "  return element;\n",
              "}\n",
              "\n",
              "// Max number of bytes which will be uploaded at a time.\n",
              "const MAX_PAYLOAD_SIZE = 100 * 1024;\n",
              "\n",
              "function _uploadFiles(inputId, outputId) {\n",
              "  const steps = uploadFilesStep(inputId, outputId);\n",
              "  const outputElement = document.getElementById(outputId);\n",
              "  // Cache steps on the outputElement to make it available for the next call\n",
              "  // to uploadFilesContinue from Python.\n",
              "  outputElement.steps = steps;\n",
              "\n",
              "  return _uploadFilesContinue(outputId);\n",
              "}\n",
              "\n",
              "// This is roughly an async generator (not supported in the browser yet),\n",
              "// where there are multiple asynchronous steps and the Python side is going\n",
              "// to poll for completion of each step.\n",
              "// This uses a Promise to block the python side on completion of each step,\n",
              "// then passes the result of the previous step as the input to the next step.\n",
              "function _uploadFilesContinue(outputId) {\n",
              "  const outputElement = document.getElementById(outputId);\n",
              "  const steps = outputElement.steps;\n",
              "\n",
              "  const next = steps.next(outputElement.lastPromiseValue);\n",
              "  return Promise.resolve(next.value.promise).then((value) => {\n",
              "    // Cache the last promise value to make it available to the next\n",
              "    // step of the generator.\n",
              "    outputElement.lastPromiseValue = value;\n",
              "    return next.value.response;\n",
              "  });\n",
              "}\n",
              "\n",
              "/**\n",
              " * Generator function which is called between each async step of the upload\n",
              " * process.\n",
              " * @param {string} inputId Element ID of the input file picker element.\n",
              " * @param {string} outputId Element ID of the output display.\n",
              " * @return {!Iterable<!Object>} Iterable of next steps.\n",
              " */\n",
              "function* uploadFilesStep(inputId, outputId) {\n",
              "  const inputElement = document.getElementById(inputId);\n",
              "  inputElement.disabled = false;\n",
              "\n",
              "  const outputElement = document.getElementById(outputId);\n",
              "  outputElement.innerHTML = '';\n",
              "\n",
              "  const pickedPromise = new Promise((resolve) => {\n",
              "    inputElement.addEventListener('change', (e) => {\n",
              "      resolve(e.target.files);\n",
              "    });\n",
              "  });\n",
              "\n",
              "  const cancel = document.createElement('button');\n",
              "  inputElement.parentElement.appendChild(cancel);\n",
              "  cancel.textContent = 'Cancel upload';\n",
              "  const cancelPromise = new Promise((resolve) => {\n",
              "    cancel.onclick = () => {\n",
              "      resolve(null);\n",
              "    };\n",
              "  });\n",
              "\n",
              "  // Wait for the user to pick the files.\n",
              "  const files = yield {\n",
              "    promise: Promise.race([pickedPromise, cancelPromise]),\n",
              "    response: {\n",
              "      action: 'starting',\n",
              "    }\n",
              "  };\n",
              "\n",
              "  cancel.remove();\n",
              "\n",
              "  // Disable the input element since further picks are not allowed.\n",
              "  inputElement.disabled = true;\n",
              "\n",
              "  if (!files) {\n",
              "    return {\n",
              "      response: {\n",
              "        action: 'complete',\n",
              "      }\n",
              "    };\n",
              "  }\n",
              "\n",
              "  for (const file of files) {\n",
              "    const li = document.createElement('li');\n",
              "    li.append(span(file.name, {fontWeight: 'bold'}));\n",
              "    li.append(span(\n",
              "        `(${file.type || 'n/a'}) - ${file.size} bytes, ` +\n",
              "        `last modified: ${\n",
              "            file.lastModifiedDate ? file.lastModifiedDate.toLocaleDateString() :\n",
              "                                    'n/a'} - `));\n",
              "    const percent = span('0% done');\n",
              "    li.appendChild(percent);\n",
              "\n",
              "    outputElement.appendChild(li);\n",
              "\n",
              "    const fileDataPromise = new Promise((resolve) => {\n",
              "      const reader = new FileReader();\n",
              "      reader.onload = (e) => {\n",
              "        resolve(e.target.result);\n",
              "      };\n",
              "      reader.readAsArrayBuffer(file);\n",
              "    });\n",
              "    // Wait for the data to be ready.\n",
              "    let fileData = yield {\n",
              "      promise: fileDataPromise,\n",
              "      response: {\n",
              "        action: 'continue',\n",
              "      }\n",
              "    };\n",
              "\n",
              "    // Use a chunked sending to avoid message size limits. See b/62115660.\n",
              "    let position = 0;\n",
              "    do {\n",
              "      const length = Math.min(fileData.byteLength - position, MAX_PAYLOAD_SIZE);\n",
              "      const chunk = new Uint8Array(fileData, position, length);\n",
              "      position += length;\n",
              "\n",
              "      const base64 = btoa(String.fromCharCode.apply(null, chunk));\n",
              "      yield {\n",
              "        response: {\n",
              "          action: 'append',\n",
              "          file: file.name,\n",
              "          data: base64,\n",
              "        },\n",
              "      };\n",
              "\n",
              "      let percentDone = fileData.byteLength === 0 ?\n",
              "          100 :\n",
              "          Math.round((position / fileData.byteLength) * 100);\n",
              "      percent.textContent = `${percentDone}% done`;\n",
              "\n",
              "    } while (position < fileData.byteLength);\n",
              "  }\n",
              "\n",
              "  // All done.\n",
              "  yield {\n",
              "    response: {\n",
              "      action: 'complete',\n",
              "    }\n",
              "  };\n",
              "}\n",
              "\n",
              "scope.google = scope.google || {};\n",
              "scope.google.colab = scope.google.colab || {};\n",
              "scope.google.colab._files = {\n",
              "  _uploadFiles,\n",
              "  _uploadFilesContinue,\n",
              "};\n",
              "})(self);\n",
              "</script> "
            ]
          },
          "metadata": {}
        },
        {
          "output_type": "stream",
          "name": "stdout",
          "text": [
            "Saving kaggle.json to kaggle.json\n"
          ]
        },
        {
          "output_type": "execute_result",
          "data": {
            "text/plain": [
              "{'kaggle.json': b'{\"username\":\"dhruvsaraogi\",\"key\":\"7790112e0390feac8279a90bbd9ceef9\"}'}"
            ]
          },
          "metadata": {},
          "execution_count": 3
        }
      ],
      "source": [
        "from google.colab import files\n",
        "files.upload()"
      ]
    },
    {
      "cell_type": "markdown",
      "metadata": {
        "id": "L50bM7zFoG6C"
      },
      "source": [
        "Create a directory named kaggle that will store the kaggle.json file,\n",
        "and display list of kaggle datasets.\n"
      ]
    },
    {
      "cell_type": "code",
      "execution_count": 4,
      "metadata": {
        "id": "vBWd0lnnnSoe"
      },
      "outputs": [],
      "source": [
        "!mkdir -p ~/.kaggle"
      ]
    },
    {
      "cell_type": "code",
      "source": [
        "!chmod 600 ~/.kaggle/kaggle.json"
      ],
      "metadata": {
        "id": "SBdCbGIZeWF7"
      },
      "execution_count": 6,
      "outputs": []
    },
    {
      "cell_type": "code",
      "source": [
        "!cp /content/kaggle.json ~/.kaggle/"
      ],
      "metadata": {
        "id": "gytZOwZa5Z6D"
      },
      "execution_count": 5,
      "outputs": []
    },
    {
      "cell_type": "code",
      "source": [
        "!kaggle datasets list\n"
      ],
      "metadata": {
        "id": "BVlceOUyeWRL",
        "outputId": "28d83ddd-205a-4ec8-b89d-4b9d5d1555b6",
        "colab": {
          "base_uri": "https://localhost:8080/"
        }
      },
      "execution_count": 7,
      "outputs": [
        {
          "output_type": "stream",
          "name": "stdout",
          "text": [
            "ref                                                        title                                        size  lastUpdated          downloadCount  voteCount  usabilityRating  \n",
            "---------------------------------------------------------  ------------------------------------------  -----  -------------------  -------------  ---------  ---------------  \n",
            "bhadramohit/customer-shopping-latest-trends-dataset        Customer Shopping (Latest Trends) Dataset    76KB  2024-11-23 15:26:12          10349        202  1.0              \n",
            "zafarali27/netflix-movies-and-tv-shows                     Netflix Movies and TV Shows                  28KB  2024-11-23 07:53:10           2509         49  1.0              \n",
            "hopesb/student-depression-dataset                          Student Depression Dataset.                 454KB  2024-11-22 17:56:03           6831         92  0.9411765        \n",
            "mujtabamatin/air-quality-and-pollution-assessment          Air Quality and Pollution Assessment         84KB  2024-12-04 15:29:51           3512         63  1.0              \n",
            "imranalishahh/marketing-and-product-performance-dataset    Marketing and Product Performance Dataset   552KB  2024-12-08 08:58:53            771         26  1.0              \n",
            "malaiarasugraj/global-health-statistics                    Global Health Statistics                     44MB  2024-11-27 10:52:27           3152         41  1.0              \n",
            "imranalishahh/sales-and-customer-insights                  Sales and Customer Insights Dataset         401KB  2024-12-08 08:50:13            780         21  1.0              \n",
            "qubdidata/auto-market-dataset                              Dataset For Car Price Prediction             10MB  2024-12-08 15:08:44            825         23  0.9411765        \n",
            "steve1215rogg/student-lifestyle-dataset                    student lifestyle dataset                    22KB  2024-11-11 19:11:28          10764        145  1.0              \n",
            "steve1215rogg/e-commerce-dataset                           E-Commerce Dataset                           90KB  2024-11-22 22:10:02           3783         53  1.0              \n",
            "imranalishahh/comprehensive-synthetic-e-commerce-dataset   Comprehensive Synthetic E-commerce Dataset    5MB  2024-12-07 16:04:15            537         23  1.0              \n",
            "bhadramohit/tata-ipl-auction-2025-sold-players-dataset     TATA IPL Auction 2025 Sold Players Dataset    5KB  2024-11-26 05:05:03           1241         24  1.0              \n",
            "ikynahidwin/depression-student-dataset                     Depression Student Dataset                    4KB  2024-11-20 06:42:01           5705         85  1.0              \n",
            "ziya07/student-health-and-attendance-data                  Student Health and Attendance Data          149KB  2024-12-04 08:09:26           1008         31  0.88235295       \n",
            "anirudhchauhan/retail-store-inventory-forecasting-dataset  Retail Store Inventory Forecasting Dataset    2MB  2024-11-24 20:09:48           2523         41  1.0              \n",
            "luisheitorribeiro/covid-19-fatalities-data                 COVID - 19 Fatalities Data (JHU)            960KB  2024-11-23 21:55:11            970         26  1.0              \n",
            "martinagalasso/global-health-and-development-2012-2021     Global Health and Development (2012-2021)   176KB  2024-11-30 21:34:48           1229         34  1.0              \n",
            "ziya07/music-education-performance-data                    Music Education Performance Data             12KB  2024-12-09 08:24:23            397         23  0.88235295       \n",
            "mohitkumar282/used-car-dataset                             Used Car Dataset                            230KB  2024-11-24 09:14:58           3651         43  1.0              \n",
            "bushraqurban/world-education-dataset                       🌍 World Education Dataset 📚                 243KB  2024-11-22 20:05:15           2090         32  1.0              \n"
          ]
        }
      ]
    },
    {
      "cell_type": "code",
      "source": [],
      "metadata": {
        "id": "aC7spJQqeWap"
      },
      "execution_count": null,
      "outputs": []
    },
    {
      "cell_type": "markdown",
      "metadata": {
        "id": "_WMbWO-BpoJH"
      },
      "source": [
        "Create a directory to save models"
      ]
    },
    {
      "cell_type": "code",
      "execution_count": 8,
      "metadata": {
        "id": "mQEoLi_-pjac"
      },
      "outputs": [],
      "source": [
        "!mkdir saved_models"
      ]
    },
    {
      "cell_type": "code",
      "source": [
        "!git clone https://github.com/gavin-d26/Localization-of-Lung-abnormalities-on-Chest-X-Rays-using-self-supervised-equivariant-attention.git\n",
        "%cd Localization-of-Lung-abnormalities-on-Chest-X-Rays-using-self-supervised-equivariant-attention\n"
      ],
      "metadata": {
        "id": "vGDvgIazeznj",
        "outputId": "11f424b1-e77d-4257-cf22-d6f9756b0db2",
        "colab": {
          "base_uri": "https://localhost:8080/"
        }
      },
      "execution_count": 11,
      "outputs": [
        {
          "output_type": "stream",
          "name": "stdout",
          "text": [
            "Cloning into 'Localization-of-Lung-abnormalities-on-Chest-X-Rays-using-self-supervised-equivariant-attention'...\n",
            "remote: Enumerating objects: 53, done.\u001b[K\n",
            "remote: Counting objects: 100% (53/53), done.\u001b[K\n",
            "remote: Compressing objects: 100% (37/37), done.\u001b[K\n",
            "remote: Total 53 (delta 23), reused 36 (delta 14), pack-reused 0 (from 0)\u001b[K\n",
            "Receiving objects: 100% (53/53), 803.62 KiB | 21.72 MiB/s, done.\n",
            "Resolving deltas: 100% (23/23), done.\n",
            "/content/Localization-of-Lung-abnormalities-on-Chest-X-Rays-using-self-supervised-equivariant-attention/Localization-of-Lung-abnormalities-on-Chest-X-Rays-using-self-supervised-equivariant-attention\n"
          ]
        }
      ]
    },
    {
      "cell_type": "code",
      "source": [
        "%cd Localization-of-Lung-abnormalities-on-Chest-X-Rays-using-self-supervised-equivariant-attention\n"
      ],
      "metadata": {
        "id": "KxpCtZHsgbNE",
        "outputId": "46dd3e55-3ac8-41b0-d475-e31c8c88822d",
        "colab": {
          "base_uri": "https://localhost:8080/"
        }
      },
      "execution_count": 10,
      "outputs": [
        {
          "output_type": "stream",
          "name": "stdout",
          "text": [
            "[Errno 2] No such file or directory: 'Localization-of-Lung-abnormalities-on-Chest-X-Rays-using-self-supervised-equivariant-attention'\n",
            "/content/Localization-of-Lung-abnormalities-on-Chest-X-Rays-using-self-supervised-equivariant-attention\n"
          ]
        }
      ]
    },
    {
      "cell_type": "code",
      "source": [
        "!kaggle datasets download -d nih-chest-xrays/data -p /content/data\n"
      ],
      "metadata": {
        "id": "Dv4rJ0h2lgHp",
        "outputId": "e017ebdd-3eb2-4831-e6a7-4a9a5c5ffb13",
        "colab": {
          "base_uri": "https://localhost:8080/"
        }
      },
      "execution_count": null,
      "outputs": [
        {
          "output_type": "stream",
          "name": "stdout",
          "text": [
            "Dataset URL: https://www.kaggle.com/datasets/nih-chest-xrays/data\n",
            "License(s): CC0-1.0\n",
            "Downloading data.zip to /content/data\n",
            " 14% 5.93G/42.0G [04:40<24:25, 26.4MB/s]"
          ]
        }
      ]
    },
    {
      "cell_type": "markdown",
      "metadata": {
        "id": "7QEmAyznotkz"
      },
      "source": [
        "1.   Change current directory to project directory.\n",
        "2.   Download nih-chest-xrays dataset as a data.zip file into project directory.\n",
        "1.   Unzip the data.zip file.\n",
        "\n",
        "\n",
        "\n",
        "\n",
        "\n",
        "\n",
        "\n",
        "\n"
      ]
    },
    {
      "cell_type": "code",
      "source": [
        "%cd Localization-of-Lung-abnormalities-on-Chest-X-Rays-using-self-supervised-equivariant-attention\n",
        "!mkdir data\n",
        "%cd data\n",
        "!kaggle datasets download -d nih-chest-xrays/data\n",
        "!unzip \\*.zip  && rm *.zip\n",
        "%cd .."
      ],
      "metadata": {
        "id": "pMndxQI2hbD1"
      },
      "execution_count": null,
      "outputs": []
    },
    {
      "cell_type": "markdown",
      "metadata": {
        "id": "c3oUom0inFQ3"
      },
      "source": [
        "Install necessary packages"
      ]
    },
    {
      "cell_type": "code",
      "execution_count": null,
      "metadata": {
        "id": "i6xTIAOIUqG5"
      },
      "outputs": [],
      "source": [
        "!pip install -r requirements.txt"
      ]
    },
    {
      "cell_type": "markdown",
      "source": [
        "Login to Weights and Biases (wandb) for experiment tracking."
      ],
      "metadata": {
        "id": "5RmW2JdyeWHw"
      }
    },
    {
      "cell_type": "code",
      "source": [
        "!wandb login"
      ],
      "metadata": {
        "id": "F9cMDu2zeVLV"
      },
      "execution_count": null,
      "outputs": []
    },
    {
      "cell_type": "markdown",
      "source": [
        "Next, in weights and biases, create a new project titled \"chest-xray-localization\"."
      ],
      "metadata": {
        "id": "YoTDSEwBiJDZ"
      }
    },
    {
      "cell_type": "markdown",
      "metadata": {
        "id": "K9a8CplEp3yP"
      },
      "source": [
        "Run the trainpcm.py script with the following options.\n",
        "\n",
        "1.   --savedirectory : Path to save directory\n",
        "2.   --model : Type of model (resnet50, resnet50PCM, efficientnetb4, efficientnetb4PCM)\n",
        "3.   --name : Name of current run\n",
        "4.   --project : Name of wandb project\n",
        "5.   --entity : Name of wandb entity (username) (for more info [link](https://docs.wandb.ai/ref/python/init))\n",
        "\n"
      ]
    },
    {
      "cell_type": "code",
      "execution_count": null,
      "metadata": {
        "id": "L-v3XXMdqHH8"
      },
      "outputs": [],
      "source": [
        "%cd /content/Localization-of-Lung-abnormalities-on-Chest-X-Rays-using-self-supervised-equivariant-attention\n",
        "!python scripts/trainpcm.py --savedirectory /content/saved_models --model resnet50PCM --name resnet50PCM_v1 --project chest-xray-localization --entity YOUR_WANDB_USERNAME"
      ]
    },
    {
      "cell_type": "markdown",
      "source": [
        "During Training, two versions of the model are saved. Final (_FW_) and Checkpoint (_CW_). Checkpoint refers to the model with highest Validation AUROC Score.\n",
        "Go to wandb to view results.\n",
        "\n",
        "\n",
        "1.   For classification, see AUROC_MACRO_TEST_Checkpoint in summary section.\n",
        "2.   For localization, see table titled RUNNAME-CW-default/pcm/pcm-rv_Checkpoint\n",
        "\n"
      ],
      "metadata": {
        "id": "5suXj49ilR_5"
      }
    }
  ],
  "metadata": {
    "colab": {
      "name": "Chest-xray-localization.ipynb",
      "provenance": [],
      "toc_visible": true,
      "include_colab_link": true
    },
    "kernelspec": {
      "display_name": "Python 3",
      "name": "python3"
    },
    "language_info": {
      "name": "python"
    },
    "gpuClass": "standard",
    "accelerator": "GPU"
  },
  "nbformat": 4,
  "nbformat_minor": 0
}